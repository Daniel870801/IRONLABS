{
 "cells": [
  {
   "cell_type": "code",
   "execution_count": 1,
   "id": "03f565c2",
   "metadata": {},
   "outputs": [
    {
     "name": "stdout",
     "output_type": "stream",
     "text": [
      "Player 1 please enter your name : d\n",
      "Player 2 please enter your name : s\n"
     ]
    },
    {
     "data": {
      "text/plain": [
       "0"
      ]
     },
     "execution_count": 1,
     "metadata": {},
     "output_type": "execute_result"
    }
   ],
   "source": [
    "import random\n",
    "import os\n",
    "\n",
    "#Asking players to input their name\n",
    "player_1 = ({'Name' : input(\"Player 1 please enter your name : \")})\n",
    "player_2 = ({'Name' : input(\"Player 2 please enter your name : \")})\n",
    "os.system('cls')"
   ]
  },
  {
   "cell_type": "code",
   "execution_count": 2,
   "id": "4aa0d920",
   "metadata": {},
   "outputs": [
    {
     "data": {
      "text/plain": [
       "\"Note: the command os.system('cls') does not seem very useful\""
      ]
     },
     "execution_count": 2,
     "metadata": {},
     "output_type": "execute_result"
    }
   ],
   "source": [
    "\"\"\"Note: the command os.system('cls') does not seem very useful\"\"\""
   ]
  },
  {
   "cell_type": "code",
   "execution_count": 16,
   "id": "6b9e5fd0",
   "metadata": {},
   "outputs": [],
   "source": [
    "board = [-1] * 9\n",
    "\n",
    "#Creation of a 3 * 3 logical board\n",
    "def create_board() :\n",
    "    for y in range(3):\n",
    "        for x in range(3):\n",
    "            if board[x + 3 * y] == -1: print(str(x + 3 * y) + \"  \", end=\"\")\n",
    "            elif board[x + 3 * y] % 2 == 0: print(\"X  \", end=\"\")\n",
    "            else: print(\"O  \", end=\"\")\n",
    "        print()"
   ]
  },
  {
   "cell_type": "code",
   "execution_count": 17,
   "id": "84515794",
   "metadata": {},
   "outputs": [
    {
     "name": "stdout",
     "output_type": "stream",
     "text": [
      "0  1  2  \n",
      "3  4  5  \n",
      "6  7  8  \n"
     ]
    }
   ],
   "source": [
    "create_board()"
   ]
  },
  {
   "cell_type": "code",
   "execution_count": 18,
   "id": "e5722bf5",
   "metadata": {},
   "outputs": [
    {
     "name": "stdout",
     "output_type": "stream",
     "text": [
      "range(0, 3)\n"
     ]
    }
   ],
   "source": [
    "\"\"\"The code to create a board does work, however it is long and hard to follow without pen and paper\n",
    "A numpy array could probably do the job\"\"\""
   ]
  },
  {
   "cell_type": "code",
   "execution_count": 8,
   "id": "d3b77160",
   "metadata": {},
   "outputs": [],
   "source": [
    "#Drawing the graphical board each time it's called\n",
    "def draw_game(countOfTurns) :\n",
    "    os.system('cls')\n",
    "    print(\"Turn  \" + str(countOfTurns) + \"          \", end=\"\")\n",
    "    if countOfTurns % 2 == 0: print(player_1[\"Name\"] + \"'s turn ! (X)\")\n",
    "    else: print(player_2[\"Name\"] + \"'s turn ! (O)\")\n",
    "    print()\n",
    "    create_board()\n",
    "    print()"
   ]
  },
  {
   "cell_type": "code",
   "execution_count": null,
   "id": "96017c82",
   "metadata": {},
   "outputs": [],
   "source": []
  },
  {
   "cell_type": "code",
   "execution_count": 9,
   "id": "ad0b21f8",
   "metadata": {},
   "outputs": [],
   "source": [
    "#Defines who's going to play first\n",
    "def whoIsGoingToStart():\n",
    "    if random.randint(0,100) <= 50 :\n",
    "        starting_player = player_1\n",
    "    else :\n",
    "        starting_player = player_2\n",
    "    return(starting_player)"
   ]
  },
  {
   "cell_type": "code",
   "execution_count": 10,
   "id": "bb7afedd",
   "metadata": {},
   "outputs": [],
   "source": [
    "def checkWinCondition():\n",
    "    solutions = [[0,1,2],[3,4,5],[6,7,8],[0,3,6],[1,4,7],[2,5,8],[0,4,8],[2,4,6]]\n",
    "    for i in solutions :\n",
    "        if board[i[0]] != -1 and board[i[1]] != -1 and board[i[2]] != -1:   #Testing 3 full cells \n",
    "            if board[i[0]] % 2 == board[i[1]] % 2 == board[i[2]] % 2:       #Checking if unique player fulfilled the cells\n",
    "                if board[i[0]] % 2 == 0: \n",
    "                    return 1\n",
    "                else: \n",
    "                    return 2\n",
    "    return 0"
   ]
  },
  {
   "cell_type": "code",
   "execution_count": 3,
   "id": "2a204af2",
   "metadata": {},
   "outputs": [
    {
     "data": {
      "text/plain": [
       "'Here it is hard to be sure that all solutions have been listed. Maybe there is a way to make a pattern of solutions'"
      ]
     },
     "execution_count": 3,
     "metadata": {},
     "output_type": "execute_result"
    }
   ],
   "source": [
    "\"\"\"Here it is hard to be sure that all solutions have been listed. Maybe there is a way to make a pattern of solutions\"\"\""
   ]
  },
  {
   "cell_type": "code",
   "execution_count": 11,
   "id": "aec2c0a2",
   "metadata": {},
   "outputs": [],
   "source": [
    "#Declares the outcome of the game \n",
    "def draw_winner() :\n",
    "    os.system('cls')\n",
    "    winner = checkWinCondition()\n",
    "    if winner == 1:\n",
    "        print(player_1[\"Name\"] + \" Won !\")\n",
    "    elif winner == 2:\n",
    "        print(player_2[\"Name\"] + \" Won !\")\n",
    "    else:\n",
    "        print(\"Its a tie\")\n",
    "    print()\n",
    "    create_board()"
   ]
  },
  {
   "cell_type": "code",
   "execution_count": 12,
   "id": "e43de90f",
   "metadata": {},
   "outputs": [],
   "source": [
    "def fullBoard():\n",
    "    for i in range(9):\n",
    "        if board[i] == -1: return False\n",
    "    return True"
   ]
  },
  {
   "cell_type": "code",
   "execution_count": 13,
   "id": "32df8016",
   "metadata": {},
   "outputs": [
    {
     "name": "stdout",
     "output_type": "stream",
     "text": [
      "Turn  1          s's turn ! (O)\n",
      "\n",
      "0  1  2  \n",
      "3  4  5  \n",
      "6  7  8  \n",
      "\n",
      "Please input the number of the cell you want to play in : 8\n",
      "Turn  2          d's turn ! (X)\n",
      "\n",
      "0  1  2  \n",
      "3  4  5  \n",
      "6  7  O  \n",
      "\n",
      "Please input the number of the cell you want to play in : 5\n",
      "Turn  3          s's turn ! (O)\n",
      "\n",
      "0  1  2  \n",
      "3  4  X  \n",
      "6  7  O  \n",
      "\n",
      "Please input the number of the cell you want to play in : 4\n",
      "Turn  4          d's turn ! (X)\n",
      "\n",
      "0  1  2  \n",
      "3  O  X  \n",
      "6  7  O  \n",
      "\n",
      "Please input the number of the cell you want to play in : 0\n",
      "Turn  5          s's turn ! (O)\n",
      "\n",
      "X  1  2  \n",
      "3  O  X  \n",
      "6  7  O  \n",
      "\n",
      "Please input the number of the cell you want to play in : 2\n",
      "Turn  6          d's turn ! (X)\n",
      "\n",
      "X  1  O  \n",
      "3  O  X  \n",
      "6  7  O  \n",
      "\n",
      "Please input the number of the cell you want to play in : 7\n",
      "Turn  7          s's turn ! (O)\n",
      "\n",
      "X  1  O  \n",
      "3  O  X  \n",
      "6  X  O  \n",
      "\n",
      "Please input the number of the cell you want to play in : 6\n",
      "s Won !\n",
      "\n",
      "X  1  O  \n",
      "3  O  X  \n",
      "O  X  O  \n"
     ]
    }
   ],
   "source": [
    "#Make each player take his turn \n",
    "def takeTurns():\n",
    "    countOfTurns = 0\n",
    "    if whoIsGoingToStart() is player_2:\n",
    "        countOfTurns = 1\n",
    "    while True:\n",
    "        draw_game(countOfTurns)\n",
    "        selected_cell = input(\"Please input the number of the cell you want to play in : \")\n",
    "        if selected_cell.isdigit and len(selected_cell) == 1 and board[int(selected_cell)] == -1: \n",
    "            board[int(selected_cell)] = countOfTurns\n",
    "            countOfTurns += 1\n",
    "        if checkWinCondition() != 0: break \n",
    "        if fullBoard() : break \n",
    "    draw_winner()\n",
    "\n",
    "takeTurns()"
   ]
  },
  {
   "cell_type": "code",
   "execution_count": null,
   "id": "36c92ac8",
   "metadata": {},
   "outputs": [],
   "source": []
  },
  {
   "cell_type": "code",
   "execution_count": null,
   "id": "f9ddedc8",
   "metadata": {},
   "outputs": [],
   "source": []
  }
 ],
 "metadata": {
  "kernelspec": {
   "display_name": "Python 3",
   "language": "python",
   "name": "python3"
  },
  "language_info": {
   "codemirror_mode": {
    "name": "ipython",
    "version": 3
   },
   "file_extension": ".py",
   "mimetype": "text/x-python",
   "name": "python",
   "nbconvert_exporter": "python",
   "pygments_lexer": "ipython3",
   "version": "3.8.8"
  }
 },
 "nbformat": 4,
 "nbformat_minor": 5
}
