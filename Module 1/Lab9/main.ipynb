{
 "cells": [
  {
   "cell_type": "markdown",
   "metadata": {},
   "source": [
    "# Loops\n",
    "\n",
    "Complete the following set of exercises to solidify your knowledge for Loops."
   ]
  },
  {
   "cell_type": "markdown",
   "metadata": {},
   "source": [
    "#### 1. Print first 10 natural numbers using while loop"
   ]
  },
  {
   "cell_type": "code",
   "execution_count": 1,
   "metadata": {},
   "outputs": [
    {
     "name": "stdout",
     "output_type": "stream",
     "text": [
      "1\n",
      "2\n",
      "3\n",
      "4\n",
      "5\n",
      "6\n",
      "7\n",
      "8\n",
      "9\n",
      "10\n"
     ]
    }
   ],
   "source": [
    "i=1\n",
    "while i<=10:\n",
    "    print(i)\n",
    "    i+=1"
   ]
  },
  {
   "cell_type": "markdown",
   "metadata": {},
   "source": [
    "#### 2. Display numbers from a list using loop\n",
    "Write a program to display only those numbers from a list that satisfy the following conditions\n",
    "\n",
    "The number must be divisible by five\n",
    "\n",
    "If the number is greater than 150, then skip it and move to the next number\n",
    "\n",
    "If the number is greater than 500, then stop the loop\n",
    "\n",
    "numbers = [12, 75, 150, 180, 145, 525, 50]"
   ]
  },
  {
   "cell_type": "code",
   "execution_count": 10,
   "metadata": {},
   "outputs": [
    {
     "name": "stdout",
     "output_type": "stream",
     "text": [
      "75\n",
      "150\n",
      "145\n"
     ]
    }
   ],
   "source": [
    "numbers = [12, 75, 150, 180, 145, 525, 50]\n",
    "\n",
    "for number in numbers:\n",
    "    if number>500: \n",
    "        break\n",
    "    elif number>150:\n",
    "        continue\n",
    "    elif number%5==0:\n",
    "        print(number)"
   ]
  },
  {
   "cell_type": "markdown",
   "metadata": {},
   "source": [
    "#### 3.Write a Python program to check the validity of a password (input from users).\n",
    "\n",
    "Validation :\n",
    "\n",
    "At least 1 letter between [a-z] and 1 letter between [A-Z].\n",
    "\n",
    "At least 1 number between [0-9].\n",
    "\n",
    "At least 1 character from [$#@].\n",
    "\n",
    "Minimum length 6 characters.\n",
    "\n",
    "Maximum length 16 characters."
   ]
  },
  {
   "cell_type": "code",
   "execution_count": 8,
   "metadata": {},
   "outputs": [
    {
     "name": "stdout",
     "output_type": "stream",
     "text": [
      "Please choose your password: Password8@\n",
      "The password is valid\n",
      "0\n"
     ]
    }
   ],
   "source": [
    "import re\n",
    "\n",
    "password=input('Please choose your password: ')\n",
    "\n",
    "flag=0\n",
    "\n",
    "while flag==0:\n",
    "    if len(password)<6:\n",
    "        flag=-1\n",
    "        break\n",
    "    elif len(password)>16:\n",
    "        flag=-1\n",
    "        break\n",
    "    elif not re.search('[$#@]',password):\n",
    "        flag=-1\n",
    "        break\n",
    "    elif not re.search('[a-z]',password):\n",
    "        flag=-1\n",
    "        break\n",
    "    elif not re.search('[A-Z]',password):\n",
    "        flag=-1\n",
    "        break\n",
    "    elif not re.search('[0-9]',password):\n",
    "        flag=-1\n",
    "        break\n",
    "    else:\n",
    "        print(\"The password is valid\")\n",
    "        break\n",
    "\n",
    "\n",
    "if flag==-1:\n",
    " \n",
    "    print('Password is not valid')\n",
    "print(flag)"
   ]
  },
  {
   "cell_type": "code",
   "execution_count": 4,
   "metadata": {},
   "outputs": [
    {
     "name": "stdout",
     "output_type": "stream",
     "text": [
      "Please choose your password: Password8@\n",
      "Valid password\n"
     ]
    }
   ],
   "source": [
    "import re\n",
    "\n",
    "password=input('Please choose your password: ')\n",
    "\n",
    "\n",
    "\n",
    "if len(password)<6 or len(password)>16:\n",
    "    print('Password is not valid, try again')\n",
    "    \n",
    "else:\n",
    "    if not re.search('[$#@]',password):\n",
    "        print('Password is not valid, try again')\n",
    "\n",
    "    elif not re.search('[a-z]',password):\n",
    "        print('Password is not valid try again')\n",
    "\n",
    "    elif not re.search('[A-Z]',password):\n",
    "        print('Password is not valid try again')\n",
    "    else:\n",
    "        print('Valid password')\n",
    "            \n"
   ]
  },
  {
   "cell_type": "markdown",
   "metadata": {},
   "source": [
    "#### 4. Break the loop when x is 6, and see what happens with the else block"
   ]
  },
  {
   "cell_type": "code",
   "execution_count": 30,
   "metadata": {},
   "outputs": [
    {
     "name": "stdout",
     "output_type": "stream",
     "text": [
      "1\n",
      "2\n",
      "3\n",
      "4\n",
      "5\n",
      "6\n"
     ]
    }
   ],
   "source": [
    "x=0\n",
    "while x!=6:\n",
    "    x+=1\n",
    "    print(x)"
   ]
  },
  {
   "cell_type": "markdown",
   "metadata": {},
   "source": [
    "#### 5. Write a Python program to calculate the sum and average of n integer numbers (input from the user). Input 0 to finish.\n"
   ]
  },
  {
   "cell_type": "code",
   "execution_count": 27,
   "metadata": {},
   "outputs": [
    {
     "name": "stdout",
     "output_type": "stream",
     "text": [
      "Please input integer number: 8\n",
      "8\n",
      "8\n",
      "Please input integer number: 15\n",
      "23\n",
      "11.5\n",
      "Please input integer number: 0\n"
     ]
    }
   ],
   "source": [
    "from statistics import mean\n",
    "\n",
    "\n",
    "list=[]\n",
    "user_input=1\n",
    "\n",
    "while user_input!=0:\n",
    "    user_input=int(input(\"Please input integer number: \"))\n",
    "    if user_input==0:\n",
    "        break\n",
    "    list.append(user_input)\n",
    "    print(sum(list))\n",
    "    print(mean(list))\n",
    " \n",
    "\n",
    "\n"
   ]
  },
  {
   "cell_type": "code",
   "execution_count": null,
   "metadata": {},
   "outputs": [],
   "source": []
  }
 ],
 "metadata": {
  "kernelspec": {
   "display_name": "Python 3",
   "language": "python",
   "name": "python3"
  },
  "language_info": {
   "codemirror_mode": {
    "name": "ipython",
    "version": 3
   },
   "file_extension": ".py",
   "mimetype": "text/x-python",
   "name": "python",
   "nbconvert_exporter": "python",
   "pygments_lexer": "ipython3",
   "version": "3.8.8"
  }
 },
 "nbformat": 4,
 "nbformat_minor": 2
}
