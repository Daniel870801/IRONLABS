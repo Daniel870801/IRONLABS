{
 "cells": [
  {
   "cell_type": "code",
   "execution_count": 1,
   "id": "f7d8ebe5",
   "metadata": {},
   "outputs": [],
   "source": [
    "import pandas as pd\n",
    "import numpy as np"
   ]
  },
  {
   "cell_type": "code",
   "execution_count": 3,
   "id": "9c3a542a",
   "metadata": {},
   "outputs": [],
   "source": [
    "dic={\n",
    "\"TransactionID\":[1,2,3,4,5],\n",
    "\"ClientID\":[231,765,453,231,892],\n",
    "\"Profession\":[\"self-employed\",\"students\",\"horeca\",\"self-employed\",\"finance\"],\n",
    "\"Bank_dep\":[9,5,7,9,3],\n",
    "\"Risk\":[\"high\",\"high\",\"medium\",\"high\",\"low\"],\n",
    "\"Number_of_credits\":[2,3,5,2,3],\n",
    "\"Revenue\":[30200,12700,89400,30200,74000]\n",
    "    }"
   ]
  },
  {
   "cell_type": "code",
   "execution_count": 4,
   "id": "da225203",
   "metadata": {},
   "outputs": [],
   "source": [
    "df=pd.DataFrame(dic)"
   ]
  },
  {
   "cell_type": "code",
   "execution_count": 5,
   "id": "5f40521e",
   "metadata": {},
   "outputs": [
    {
     "data": {
      "text/html": [
       "<div>\n",
       "<style scoped>\n",
       "    .dataframe tbody tr th:only-of-type {\n",
       "        vertical-align: middle;\n",
       "    }\n",
       "\n",
       "    .dataframe tbody tr th {\n",
       "        vertical-align: top;\n",
       "    }\n",
       "\n",
       "    .dataframe thead th {\n",
       "        text-align: right;\n",
       "    }\n",
       "</style>\n",
       "<table border=\"1\" class=\"dataframe\">\n",
       "  <thead>\n",
       "    <tr style=\"text-align: right;\">\n",
       "      <th></th>\n",
       "      <th>TransactionID</th>\n",
       "      <th>ClientID</th>\n",
       "      <th>Profession</th>\n",
       "      <th>Bank_dep</th>\n",
       "      <th>Risk</th>\n",
       "      <th>Number_of_credits</th>\n",
       "      <th>Revenue</th>\n",
       "    </tr>\n",
       "  </thead>\n",
       "  <tbody>\n",
       "    <tr>\n",
       "      <th>0</th>\n",
       "      <td>1</td>\n",
       "      <td>231</td>\n",
       "      <td>self-employed</td>\n",
       "      <td>9</td>\n",
       "      <td>high</td>\n",
       "      <td>2</td>\n",
       "      <td>30200</td>\n",
       "    </tr>\n",
       "    <tr>\n",
       "      <th>1</th>\n",
       "      <td>2</td>\n",
       "      <td>765</td>\n",
       "      <td>students</td>\n",
       "      <td>5</td>\n",
       "      <td>high</td>\n",
       "      <td>3</td>\n",
       "      <td>12700</td>\n",
       "    </tr>\n",
       "    <tr>\n",
       "      <th>2</th>\n",
       "      <td>3</td>\n",
       "      <td>453</td>\n",
       "      <td>horeca</td>\n",
       "      <td>7</td>\n",
       "      <td>medium</td>\n",
       "      <td>5</td>\n",
       "      <td>89400</td>\n",
       "    </tr>\n",
       "    <tr>\n",
       "      <th>3</th>\n",
       "      <td>4</td>\n",
       "      <td>231</td>\n",
       "      <td>self-employed</td>\n",
       "      <td>9</td>\n",
       "      <td>high</td>\n",
       "      <td>2</td>\n",
       "      <td>30200</td>\n",
       "    </tr>\n",
       "    <tr>\n",
       "      <th>4</th>\n",
       "      <td>5</td>\n",
       "      <td>892</td>\n",
       "      <td>finance</td>\n",
       "      <td>3</td>\n",
       "      <td>low</td>\n",
       "      <td>3</td>\n",
       "      <td>74000</td>\n",
       "    </tr>\n",
       "  </tbody>\n",
       "</table>\n",
       "</div>"
      ],
      "text/plain": [
       "   TransactionID  ClientID     Profession  Bank_dep    Risk  \\\n",
       "0              1       231  self-employed         9    high   \n",
       "1              2       765       students         5    high   \n",
       "2              3       453         horeca         7  medium   \n",
       "3              4       231  self-employed         9    high   \n",
       "4              5       892        finance         3     low   \n",
       "\n",
       "   Number_of_credits  Revenue  \n",
       "0                  2    30200  \n",
       "1                  3    12700  \n",
       "2                  5    89400  \n",
       "3                  2    30200  \n",
       "4                  3    74000  "
      ]
     },
     "execution_count": 5,
     "metadata": {},
     "output_type": "execute_result"
    }
   ],
   "source": [
    "df"
   ]
  },
  {
   "cell_type": "code",
   "execution_count": 6,
   "id": "f638ee4b",
   "metadata": {},
   "outputs": [
    {
     "data": {
      "text/plain": [
       "'\\n- Dummy Encoder\\n- Label Encoder\\n- Backward Difference Coding\\n- BaseN\\n- Binary\\n- CatBoost Encoder\\n- Count Encoder\\n- Generalized Linear Mixed Model Encoder\\n- Hashing\\n- Helmert Coding\\n- James-Stein Encoder\\n- Leave One Out\\n- M-estimate\\n- One Hot\\n- Ordinal\\n- Polynomial Coding\\n- Sum Coding\\n- Target Encoder\\n- Weight of Evidence\\n- Wrappers\\n- Quantile Encoder\\n- Summary Encoder\\n'"
      ]
     },
     "execution_count": 6,
     "metadata": {},
     "output_type": "execute_result"
    }
   ],
   "source": [
    "\"\"\"\n",
    "- Dummy Encoder\n",
    "- Label Encoder\n",
    "- Backward Difference Coding\n",
    "- BaseN\n",
    "- Binary\n",
    "- CatBoost Encoder\n",
    "- Count Encoder\n",
    "- Generalized Linear Mixed Model Encoder\n",
    "- Hashing\n",
    "- Helmert Coding\n",
    "- James-Stein Encoder\n",
    "- Leave One Out\n",
    "- M-estimate\n",
    "- One Hot\n",
    "- Ordinal\n",
    "- Polynomial Coding\n",
    "- Sum Coding\n",
    "- Target Encoder\n",
    "- Weight of Evidence\n",
    "- Wrappers\n",
    "- Quantile Encoder\n",
    "- Summary Encoder\n",
    "\"\"\""
   ]
  },
  {
   "cell_type": "code",
   "execution_count": 7,
   "id": "2e2d73e4",
   "metadata": {},
   "outputs": [
    {
     "data": {
      "text/html": [
       "<div>\n",
       "<style scoped>\n",
       "    .dataframe tbody tr th:only-of-type {\n",
       "        vertical-align: middle;\n",
       "    }\n",
       "\n",
       "    .dataframe tbody tr th {\n",
       "        vertical-align: top;\n",
       "    }\n",
       "\n",
       "    .dataframe thead th {\n",
       "        text-align: right;\n",
       "    }\n",
       "</style>\n",
       "<table border=\"1\" class=\"dataframe\">\n",
       "  <thead>\n",
       "    <tr style=\"text-align: right;\">\n",
       "      <th></th>\n",
       "      <th>TransactionID</th>\n",
       "      <th>ClientID</th>\n",
       "      <th>Bank_dep</th>\n",
       "      <th>Number_of_credits</th>\n",
       "      <th>Revenue</th>\n",
       "      <th>ProfessionRiskfinance</th>\n",
       "      <th>ProfessionRiskhoreca</th>\n",
       "      <th>ProfessionRiskself-employed</th>\n",
       "      <th>ProfessionRiskstudents</th>\n",
       "      <th>ProfessionRiskhigh</th>\n",
       "      <th>ProfessionRisklow</th>\n",
       "      <th>ProfessionRiskmedium</th>\n",
       "    </tr>\n",
       "  </thead>\n",
       "  <tbody>\n",
       "    <tr>\n",
       "      <th>0</th>\n",
       "      <td>1</td>\n",
       "      <td>231</td>\n",
       "      <td>9</td>\n",
       "      <td>2</td>\n",
       "      <td>30200</td>\n",
       "      <td>0</td>\n",
       "      <td>0</td>\n",
       "      <td>1</td>\n",
       "      <td>0</td>\n",
       "      <td>1</td>\n",
       "      <td>0</td>\n",
       "      <td>0</td>\n",
       "    </tr>\n",
       "    <tr>\n",
       "      <th>1</th>\n",
       "      <td>2</td>\n",
       "      <td>765</td>\n",
       "      <td>5</td>\n",
       "      <td>3</td>\n",
       "      <td>12700</td>\n",
       "      <td>0</td>\n",
       "      <td>0</td>\n",
       "      <td>0</td>\n",
       "      <td>1</td>\n",
       "      <td>1</td>\n",
       "      <td>0</td>\n",
       "      <td>0</td>\n",
       "    </tr>\n",
       "    <tr>\n",
       "      <th>2</th>\n",
       "      <td>3</td>\n",
       "      <td>453</td>\n",
       "      <td>7</td>\n",
       "      <td>5</td>\n",
       "      <td>89400</td>\n",
       "      <td>0</td>\n",
       "      <td>1</td>\n",
       "      <td>0</td>\n",
       "      <td>0</td>\n",
       "      <td>0</td>\n",
       "      <td>0</td>\n",
       "      <td>1</td>\n",
       "    </tr>\n",
       "    <tr>\n",
       "      <th>3</th>\n",
       "      <td>4</td>\n",
       "      <td>231</td>\n",
       "      <td>9</td>\n",
       "      <td>2</td>\n",
       "      <td>30200</td>\n",
       "      <td>0</td>\n",
       "      <td>0</td>\n",
       "      <td>1</td>\n",
       "      <td>0</td>\n",
       "      <td>1</td>\n",
       "      <td>0</td>\n",
       "      <td>0</td>\n",
       "    </tr>\n",
       "    <tr>\n",
       "      <th>4</th>\n",
       "      <td>5</td>\n",
       "      <td>892</td>\n",
       "      <td>3</td>\n",
       "      <td>3</td>\n",
       "      <td>74000</td>\n",
       "      <td>1</td>\n",
       "      <td>0</td>\n",
       "      <td>0</td>\n",
       "      <td>0</td>\n",
       "      <td>0</td>\n",
       "      <td>1</td>\n",
       "      <td>0</td>\n",
       "    </tr>\n",
       "  </tbody>\n",
       "</table>\n",
       "</div>"
      ],
      "text/plain": [
       "   TransactionID  ClientID  Bank_dep  Number_of_credits  Revenue  \\\n",
       "0              1       231         9                  2    30200   \n",
       "1              2       765         5                  3    12700   \n",
       "2              3       453         7                  5    89400   \n",
       "3              4       231         9                  2    30200   \n",
       "4              5       892         3                  3    74000   \n",
       "\n",
       "   ProfessionRiskfinance  ProfessionRiskhoreca  ProfessionRiskself-employed  \\\n",
       "0                      0                     0                            1   \n",
       "1                      0                     0                            0   \n",
       "2                      0                     1                            0   \n",
       "3                      0                     0                            1   \n",
       "4                      1                     0                            0   \n",
       "\n",
       "   ProfessionRiskstudents  ProfessionRiskhigh  ProfessionRisklow  \\\n",
       "0                       0                   1                  0   \n",
       "1                       1                   1                  0   \n",
       "2                       0                   0                  0   \n",
       "3                       0                   1                  0   \n",
       "4                       0                   0                  1   \n",
       "\n",
       "   ProfessionRiskmedium  \n",
       "0                     0  \n",
       "1                     0  \n",
       "2                     1  \n",
       "3                     0  \n",
       "4                     0  "
      ]
     },
     "execution_count": 7,
     "metadata": {},
     "output_type": "execute_result"
    }
   ],
   "source": [
    "#dummy encoder\n",
    "\n",
    "pd.get_dummies(df,\"Profession\",\"Risk\")"
   ]
  },
  {
   "cell_type": "code",
   "execution_count": 8,
   "id": "1d7fed8e",
   "metadata": {},
   "outputs": [],
   "source": [
    "#one hot encoding\n",
    "\n",
    "from sklearn.compose import ColumnTransformer\n",
    "from sklearn.preprocessing import OneHotEncoder"
   ]
  },
  {
   "cell_type": "code",
   "execution_count": 9,
   "id": "f3f0a6ba",
   "metadata": {},
   "outputs": [],
   "source": [
    "ct=ColumnTransformer(transformers=[('encoder',OneHotEncoder(),[0])],remainder='passthrough')\n"
   ]
  },
  {
   "cell_type": "code",
   "execution_count": 31,
   "id": "89ea7c48",
   "metadata": {},
   "outputs": [],
   "source": [
    "X=df.iloc[:,2:5:2]"
   ]
  },
  {
   "cell_type": "code",
   "execution_count": 32,
   "id": "a4011e08",
   "metadata": {},
   "outputs": [
    {
     "data": {
      "text/html": [
       "<div>\n",
       "<style scoped>\n",
       "    .dataframe tbody tr th:only-of-type {\n",
       "        vertical-align: middle;\n",
       "    }\n",
       "\n",
       "    .dataframe tbody tr th {\n",
       "        vertical-align: top;\n",
       "    }\n",
       "\n",
       "    .dataframe thead th {\n",
       "        text-align: right;\n",
       "    }\n",
       "</style>\n",
       "<table border=\"1\" class=\"dataframe\">\n",
       "  <thead>\n",
       "    <tr style=\"text-align: right;\">\n",
       "      <th></th>\n",
       "      <th>Profession</th>\n",
       "      <th>Risk</th>\n",
       "    </tr>\n",
       "  </thead>\n",
       "  <tbody>\n",
       "    <tr>\n",
       "      <th>0</th>\n",
       "      <td>self-employed</td>\n",
       "      <td>high</td>\n",
       "    </tr>\n",
       "    <tr>\n",
       "      <th>1</th>\n",
       "      <td>students</td>\n",
       "      <td>high</td>\n",
       "    </tr>\n",
       "    <tr>\n",
       "      <th>2</th>\n",
       "      <td>horeca</td>\n",
       "      <td>medium</td>\n",
       "    </tr>\n",
       "    <tr>\n",
       "      <th>3</th>\n",
       "      <td>self-employed</td>\n",
       "      <td>high</td>\n",
       "    </tr>\n",
       "    <tr>\n",
       "      <th>4</th>\n",
       "      <td>finance</td>\n",
       "      <td>low</td>\n",
       "    </tr>\n",
       "  </tbody>\n",
       "</table>\n",
       "</div>"
      ],
      "text/plain": [
       "      Profession    Risk\n",
       "0  self-employed    high\n",
       "1       students    high\n",
       "2         horeca  medium\n",
       "3  self-employed    high\n",
       "4        finance     low"
      ]
     },
     "execution_count": 32,
     "metadata": {},
     "output_type": "execute_result"
    }
   ],
   "source": [
    "X"
   ]
  },
  {
   "cell_type": "code",
   "execution_count": 33,
   "id": "03b7efc8",
   "metadata": {},
   "outputs": [],
   "source": [
    "X=np.array(ct.fit_transform(X))"
   ]
  },
  {
   "cell_type": "code",
   "execution_count": 34,
   "id": "3d0e3ce4",
   "metadata": {},
   "outputs": [
    {
     "data": {
      "text/plain": [
       "array([[0.0, 0.0, 1.0, 0.0, 'high'],\n",
       "       [0.0, 0.0, 0.0, 1.0, 'high'],\n",
       "       [0.0, 1.0, 0.0, 0.0, 'medium'],\n",
       "       [0.0, 0.0, 1.0, 0.0, 'high'],\n",
       "       [1.0, 0.0, 0.0, 0.0, 'low']], dtype=object)"
      ]
     },
     "execution_count": 34,
     "metadata": {},
     "output_type": "execute_result"
    }
   ],
   "source": [
    "X"
   ]
  },
  {
   "cell_type": "code",
   "execution_count": null,
   "id": "7f2a6718",
   "metadata": {},
   "outputs": [],
   "source": []
  }
 ],
 "metadata": {
  "kernelspec": {
   "display_name": "Python 3",
   "language": "python",
   "name": "python3"
  },
  "language_info": {
   "codemirror_mode": {
    "name": "ipython",
    "version": 3
   },
   "file_extension": ".py",
   "mimetype": "text/x-python",
   "name": "python",
   "nbconvert_exporter": "python",
   "pygments_lexer": "ipython3",
   "version": "3.8.8"
  }
 },
 "nbformat": 4,
 "nbformat_minor": 5
}
