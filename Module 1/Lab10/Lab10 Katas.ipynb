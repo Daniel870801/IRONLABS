{
 "cells": [
  {
   "cell_type": "code",
   "execution_count": 9,
   "id": "e22d1cd3",
   "metadata": {},
   "outputs": [
    {
     "data": {
      "text/plain": [
       "17"
      ]
     },
     "execution_count": 9,
     "metadata": {},
     "output_type": "execute_result"
    }
   ],
   "source": [
    "def CountingSheep(list):\n",
    "    i=0\n",
    "    for element in list:\n",
    "        if element==True:\n",
    "            i+=1\n",
    "        else:\n",
    "            continue\n",
    "\n",
    "    return i\n",
    "\n",
    "sheep=[True,  True,  True,  False, True,  True,  True,  True ,True,  \n",
    "       False, True,  False, True,  False, False, True ,True,  True,  \n",
    "       True,  True ,False, False, True,  True]\n",
    "\n",
    "\n",
    "\n",
    "CountingSheep(sheep)"
   ]
  },
  {
   "cell_type": "code",
   "execution_count": 17,
   "id": "4b9d59c4",
   "metadata": {},
   "outputs": [
    {
     "data": {
      "text/plain": [
       "['Keep', 'Keep', 'Keep']"
      ]
     },
     "execution_count": 17,
     "metadata": {},
     "output_type": "execute_result"
    }
   ],
   "source": [
    "array1=[\"Keep\", \"Remove\", \"Keep\", \"Remove\", \"Keep\", \"Remove\"]\n",
    "\n",
    "def Remove2nd(array):\n",
    "    array2=[]\n",
    "    for i in array:\n",
    "        if array.index(i)%2==0:\n",
    "            array2.append(i)\n",
    "        else:\n",
    "            continue\n",
    "    \n",
    "    return array2\n",
    "            \n",
    "Remove2nd(array1)   "
   ]
  },
  {
   "cell_type": "code",
   "execution_count": 33,
   "id": "a30a1fd1",
   "metadata": {},
   "outputs": [
    {
     "data": {
      "text/plain": [
       "[1, 1, 8, 6, 7, 8, 1]"
      ]
     },
     "execution_count": 33,
     "metadata": {},
     "output_type": "execute_result"
    }
   ],
   "source": [
    "#348597 => [7,9,5,8,4,3]\n",
    "\n",
    "def Reverse(x):\n",
    "    array=[]\n",
    "    x=str(x)\n",
    "    for i in range(len(x)):\n",
    "        array.append(x[i])\n",
    "\n",
    "    \n",
    "    array2=[]\n",
    "    for i in array:\n",
    "        i=int(i)\n",
    "        array2.append(i)\n",
    "    \n",
    "    array2.reverse()\n",
    "    \n",
    "    return array2\n",
    "\n",
    "Reverse(1876811)\n",
    "\n"
   ]
  },
  {
   "cell_type": "code",
   "execution_count": 56,
   "id": "fb359325",
   "metadata": {},
   "outputs": [
    {
     "data": {
      "text/plain": [
       "'\\nWelcome. In this kata, you are asked to square every digit of a number and concatenate them.\\nFor example, if we run 9119 through the function, 811181 will come out, because 92 is 81 and 12 is 1.\\nNote: The function accepts an integer and returns an integer\\n'"
      ]
     },
     "execution_count": 56,
     "metadata": {},
     "output_type": "execute_result"
    }
   ],
   "source": [
    "\"\"\"\n",
    "Welcome. In this kata, you are asked to square every digit of a number and concatenate them.\n",
    "For example, if we run 9119 through the function, 811181 will come out, because 92 is 81 and 12 is 1.\n",
    "Note: The function accepts an integer and returns an integer\n",
    "\"\"\""
   ]
  },
  {
   "cell_type": "code",
   "execution_count": 2,
   "id": "8faa8c8c",
   "metadata": {},
   "outputs": [],
   "source": [
    "def Square(x):\n",
    "    num_str=str(x)\n",
    "    result=''\n",
    "    for i in num_str:\n",
    "        digit=(int(i)**2)\n",
    "        result+=str(digit)\n",
    "    \n",
    "    return(int(result))"
   ]
  },
  {
   "cell_type": "code",
   "execution_count": 3,
   "id": "470f79b3",
   "metadata": {},
   "outputs": [
    {
     "data": {
      "text/plain": [
       "6449"
      ]
     },
     "execution_count": 3,
     "metadata": {},
     "output_type": "execute_result"
    }
   ],
   "source": [
    "Square(87)"
   ]
  },
  {
   "cell_type": "code",
   "execution_count": null,
   "id": "8154ab92",
   "metadata": {},
   "outputs": [],
   "source": []
  }
 ],
 "metadata": {
  "kernelspec": {
   "display_name": "Python 3",
   "language": "python",
   "name": "python3"
  },
  "language_info": {
   "codemirror_mode": {
    "name": "ipython",
    "version": 3
   },
   "file_extension": ".py",
   "mimetype": "text/x-python",
   "name": "python",
   "nbconvert_exporter": "python",
   "pygments_lexer": "ipython3",
   "version": "3.8.8"
  }
 },
 "nbformat": 4,
 "nbformat_minor": 5
}
