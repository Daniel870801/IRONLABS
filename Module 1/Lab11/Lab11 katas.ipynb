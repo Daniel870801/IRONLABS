{
 "cells": [
  {
   "cell_type": "code",
   "execution_count": null,
   "id": "1b3fd7f6",
   "metadata": {},
   "outputs": [],
   "source": [
    "\"\"\"\n",
    "l = List()\n",
    "\n",
    "integer_list =  [1, 1, 2 ,3 ,1 ,2 ,3 ,4]\n",
    "values_list = [1, 3]\n",
    "l.remove_(integer_list, values_list) == [2, 2, 4]\n",
    "\n",
    "integer_list = [1, 1, 2 ,3 ,1 ,2 ,3 ,4, 4, 3 ,5, 6, 7, 2, 8]\n",
    "lst = [1, 3, 4, 2]\n",
    "l.remove_(integer_list, values_list) == [5, 6 ,7 ,8]\n",
    "\n",
    "integer_list = [8, 2, 7, 2, 3, 4, 6, 5, 4, 4, 1, 2 , 3]\n",
    "lst = [2, 4, 3]\n",
    "l.remove_(integer_list, values_list) == [8, 7, 6, 5, 1]\"\"\""
   ]
  },
  {
   "cell_type": "code",
   "execution_count": 12,
   "id": "38dbf725",
   "metadata": {},
   "outputs": [],
   "source": [
    "def remove_(integer_list, values_list):\n",
    "    list1=[]\n",
    "    for value in integer_list:\n",
    "        if value not in values_list:\n",
    "            list1.append(value)\n",
    "        else:\n",
    "            continue\n",
    "    return list1\n",
    "    "
   ]
  },
  {
   "cell_type": "code",
   "execution_count": 13,
   "id": "e34c69e5",
   "metadata": {},
   "outputs": [
    {
     "data": {
      "text/plain": [
       "[2, 2, 4]"
      ]
     },
     "execution_count": 13,
     "metadata": {},
     "output_type": "execute_result"
    }
   ],
   "source": [
    "integer_list =  [1, 1, 2 ,3 ,1 ,2 ,3 ,4]\n",
    "values_list = [1, 3]\n",
    "remove_(integer_list, values_list)"
   ]
  },
  {
   "cell_type": "code",
   "execution_count": 14,
   "id": "74bfec5e",
   "metadata": {},
   "outputs": [
    {
     "data": {
      "text/plain": [
       "\"\\nWe need a method in the List Class that may count specific digits from a given list of integers. \\nThis marked digits will be given in a second list. The method .count_spec_digits()/.\\ncountSpecDigits() will accept two arguments, a list of an uncertain amount of integers integers_lists/integersLists \\n(and of an uncertain amount of digits, too) and a second list, digits_list/\\ndigitsList that has the specific digits to count which length cannot be be longer than 10 \\n(It's obvious, we've got ten digits). \\nThe method will output a list of tuples, each tuple having two elements, the first one will be a digit to count, \\nand second one, its corresponding total frequency in all the integers of the first list. \\nThis list of tuples should be ordered with the same order that the digits have in digitsList\""
      ]
     },
     "execution_count": 14,
     "metadata": {},
     "output_type": "execute_result"
    }
   ],
   "source": [
    "\"\"\"\n",
    "We need a method in the List Class that may count specific digits from a given list of integers. \n",
    "This marked digits will be given in a second list. The method .count_spec_digits()/.\n",
    "countSpecDigits() will accept two arguments, a list of an uncertain amount of integers integers_lists/integersLists \n",
    "(and of an uncertain amount of digits, too) and a second list, digits_list/\n",
    "digitsList that has the specific digits to count which length cannot be be longer than 10 \n",
    "(It's obvious, we've got ten digits). \n",
    "The method will output a list of tuples, each tuple having two elements, the first one will be a digit to count, \n",
    "and second one, its corresponding total frequency in all the integers of the first list. \n",
    "This list of tuples should be ordered with the same order that the digits have in digitsList\"\"\""
   ]
  },
  {
   "cell_type": "code",
   "execution_count": 34,
   "id": "11c31a60",
   "metadata": {},
   "outputs": [],
   "source": [
    "integers_list = [-18, -31, 81, -19, 111, -888]\n",
    "digits_list = [1, 8, 4]\n",
    "\n",
    "def count_spec_digits(integers_list, digits_list):\n",
    "    final_list=[]\n",
    "    string_list=[abs(i) for i in integers_list]\n",
    "    string_list2=[str(i) for i in string_list]\n",
    "    \n",
    "    string=''\n",
    "\n",
    "    for i in string_list2:\n",
    "        for l in range(len(i)):\n",
    "            string+=i[l]\n",
    "    \n",
    "    unit_list=[i for i in string]\n",
    "    for i in digits_list:\n",
    "        t=(i,unit_list.count(str(i)))\n",
    "        final_list.append(t)\n",
    "    \n",
    "    return(final_list)"
   ]
  },
  {
   "cell_type": "code",
   "execution_count": 35,
   "id": "797860eb",
   "metadata": {},
   "outputs": [
    {
     "data": {
      "text/plain": [
       "[(1, 7), (8, 5), (4, 0)]"
      ]
     },
     "execution_count": 35,
     "metadata": {},
     "output_type": "execute_result"
    }
   ],
   "source": [
    "count_spec_digits(integers_list, digits_list)"
   ]
  },
  {
   "cell_type": "code",
   "execution_count": 41,
   "id": "4484b9e9",
   "metadata": {},
   "outputs": [
    {
     "data": {
      "text/plain": [
       "[('a', 5), ('r', 2), ('b', 2), ('c', 1), ('d', 1)]"
      ]
     },
     "execution_count": 41,
     "metadata": {},
     "output_type": "execute_result"
    }
   ],
   "source": [
    "\"\"\"Count the number of occurrences of each character and return it as a list of tuples in order of appearance. \n",
    "For empty output return an empty list.\n",
    "\n",
    "Example:\n",
    "\n",
    "ordered_count(\"abracadabra\") == [('a', 5), ('b', 2), ('r', 2), ('c', 1), ('d', 1)]\n",
    "\"\"\"\n",
    "\n",
    "\n",
    "#sorted_tups = sorted(word_freq.items(), key=operator.itemgetter(1))\n",
    "#print(sorted_tups)\n",
    "def ordered_count(x):\n",
    "    tuple_list=[]\n",
    "    \n",
    "    list1=[i for i in x]\n",
    "    set1=set(list1)\n",
    "    \n",
    "    for i in set1:\n",
    "        tuple_list.append((i,list1.count(i)))\n",
    "    \n",
    "    tuple_list.sort(key = lambda x: x[1], reverse=True)\n",
    "    \n",
    "    return(tuple_list)\n",
    "\n",
    "\n",
    "ordered_count(\"abracadabra\")        \n"
   ]
  },
  {
   "cell_type": "code",
   "execution_count": null,
   "id": "30838a3a",
   "metadata": {},
   "outputs": [],
   "source": []
  }
 ],
 "metadata": {
  "kernelspec": {
   "display_name": "Python 3",
   "language": "python",
   "name": "python3"
  },
  "language_info": {
   "codemirror_mode": {
    "name": "ipython",
    "version": 3
   },
   "file_extension": ".py",
   "mimetype": "text/x-python",
   "name": "python",
   "nbconvert_exporter": "python",
   "pygments_lexer": "ipython3",
   "version": "3.8.8"
  }
 },
 "nbformat": 4,
 "nbformat_minor": 5
}
